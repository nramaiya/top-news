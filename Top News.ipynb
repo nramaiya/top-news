{
 "cells": [
  {
   "cell_type": "code",
   "execution_count": 1,
   "metadata": {},
   "outputs": [],
   "source": [
    "import requests"
   ]
  },
  {
   "cell_type": "code",
   "execution_count": 2,
   "metadata": {},
   "outputs": [],
   "source": [
    "import pandas as pd"
   ]
  },
  {
   "cell_type": "code",
   "execution_count": 3,
   "metadata": {},
   "outputs": [],
   "source": [
    "API_KEY='87865cd05c9e48eaad5eea50ab50dc60'"
   ]
  },
  {
   "cell_type": "code",
   "execution_count": 21,
   "metadata": {},
   "outputs": [],
   "source": [
    "NEWS_URL='https://newsapi.org/v2/top-headlines?country={0}&category={1}&apiKey={2}'\n",
    "\n",
    "def get_top_news(country='gb', category='sports'): \n",
    "    \n",
    "    response = requests.get(NEWS_URL.format(country,category, API_KEY))\n",
    "    \n",
    "    if response:\n",
    "        data = response.json()\n",
    "    else:\n",
    "\n",
    "        data = None\n",
    "    return data\n",
    "\n"
   ]
  },
  {
   "cell_type": "code",
   "execution_count": 22,
   "metadata": {},
   "outputs": [],
   "source": [
    "data=get_top_news()"
   ]
  },
  {
   "cell_type": "code",
   "execution_count": 23,
   "metadata": {},
   "outputs": [],
   "source": [
    " \n",
    "def format_data(data):\n",
    "    article_list = []\n",
    "\n",
    "    for article in data['articles']:\n",
    "        title = article['title']\n",
    "        content = article['content']\n",
    "        url = article['url']\n",
    "        source_name = article['source']['name']\n",
    "\n",
    "        insert_article = {\n",
    "           'title':title,\n",
    "           'content':content,\n",
    "           'source_name':source_name,\n",
    "           'url':url\n",
    "       }\n",
    "        article_list.append(insert_article)\n",
    "\n",
    "    return article_list"
   ]
  },
  {
   "cell_type": "code",
   "execution_count": 24,
   "metadata": {},
   "outputs": [],
   "source": [
    "formatted_data=format_data(data)"
   ]
  },
  {
   "cell_type": "code",
   "execution_count": 12,
   "metadata": {},
   "outputs": [],
   "source": [
    "\n",
    "def write_news(articles=None,top_articles=3):\n",
    "    if top_articles>len(formatted_data):\n",
    "        print('we dont have that many articles')\n",
    "    else:    \n",
    "        with open('articles.txt','w') as file:\n",
    "            for i in range(len(articles)):\n",
    "                file.write('Article Number'+'i'+articles[i]['title']+'\\n')\n",
    "         \n",
    "\n"
   ]
  },
  {
   "cell_type": "code",
   "execution_count": 13,
   "metadata": {},
   "outputs": [],
   "source": [
    "write_news(formatted_data,5)"
   ]
  },
  {
   "cell_type": "code",
   "execution_count": 14,
   "metadata": {},
   "outputs": [
    {
     "data": {
      "text/plain": [
       "[{'title': 'Nuno Espirito Santo is a potential replacement if Arsenal sack Unai Emery - BBC News',\n",
       "  'content': None,\n",
       "  'source_name': 'Google News',\n",
       "  'url': 'https://news.google.com/__i/rss/rd/articles/CBMiLWh0dHBzOi8vd3d3LmJiYy5jby51ay9zcG9ydC9mb290YmFsbC81MDU3MDg3MtIBMWh0dHBzOi8vd3d3LmJiYy5jby51ay9zcG9ydC9hbXAvZm9vdGJhbGwvNTA1NzA4NzI?oc=5'},\n",
       " {'title': \"David Moyes in 'strong position' for Everton and West Ham jobs - Sky Sports\",\n",
       "  'content': None,\n",
       "  'source_name': 'Google News',\n",
       "  'url': 'https://news.google.com/__i/rss/rd/articles/CBMic2h0dHBzOi8vd3d3LnNreXNwb3J0cy5jb20vZm9vdGJhbGwvbmV3cy8xMTY4NS8xMTg3MTc0OC9kYXZpZC1tb3llcy1pbi1zdHJvbmctcG9zaXRpb24tZm9yLWV2ZXJ0b24tYW5kLXdlc3QtaGFtLWpvYnPSAXdodHRwczovL3d3dy5za3lzcG9ydHMuY29tL2FtcC9mb290YmFsbC9uZXdzLzExNjg1LzExODcxNzQ4L2RhdmlkLW1veWVzLWluLXN0cm9uZy1wb3NpdGlvbi1mb3ItZXZlcnRvbi1hbmQtd2VzdC1oYW0tam9icw?oc=5'},\n",
       " {'title': '4pm Tottenham news LIVE: Olympiakos win, Mourinho eyes Schalke goalkeeper, Bruno Fernandes transfer blow - The Sun',\n",
       "  'content': None,\n",
       "  'source_name': 'Google News',\n",
       "  'url': 'https://news.google.com/__i/rss/rd/articles/CBMibWh0dHBzOi8vd3d3LnRoZXN1bi5jby51ay9zcG9ydC9mb290YmFsbC8xMDQyMTU4Mi90b3R0ZW5oYW0tbmV3cy1saXZlLW9seW1waWFrb3MtbW91cmluaG8tYWtlLW51YmVsLWZlcm5hbmRlcy_SAQA?oc=5'},\n",
       " {'title': 'Ruiz Jr vs Joshua 2: Dillian Whyte returns on Anthony Joshua bill - Sky Sports',\n",
       "  'content': None,\n",
       "  'source_name': 'Google News',\n",
       "  'url': 'https://news.google.com/__i/rss/rd/articles/CBMidWh0dHBzOi8vd3d3LnNreXNwb3J0cy5jb20vYm94aW5nL25ld3MvMTIwNDAvMTE4NzE2NDYvcnVpei1qci12cy1qb3NodWEtMi1kaWxsaWFuLXdoeXRlLXJldHVybnMtb24tYW50aG9ueS1qb3NodWEtYmlsbNIBeWh0dHBzOi8vd3d3LnNreXNwb3J0cy5jb20vYW1wL2JveGluZy9uZXdzLzEyMDQwLzExODcxNjQ2L3J1aXotanItdnMtam9zaHVhLTItZGlsbGlhbi13aHl0ZS1yZXR1cm5zLW9uLWFudGhvbnktam9zaHVhLWJpbGw?oc=5'},\n",
       " {'title': \"Jan Vertonghen still keen to discuss new Tottenham deal after Jose Mourinho's arrival - Sky Sports\",\n",
       "  'content': None,\n",
       "  'source_name': 'Google News',\n",
       "  'url': 'https://news.google.com/__i/rss/rd/articles/CBMiiwFodHRwczovL3d3dy5za3lzcG9ydHMuY29tL2Zvb3RiYWxsL25ld3MvMTE2NzUvMTE4NzE3MjcvamFuLXZlcnRvbmdoZW4tc3RpbGwta2Vlbi10by1kaXNjdXNzLW5ldy10b3R0ZW5oYW0tZGVhbC1hZnRlci1qb3NlLW1vdXJpbmhvcy1hcnJpdmFs0gGPAWh0dHBzOi8vd3d3LnNreXNwb3J0cy5jb20vYW1wL2Zvb3RiYWxsL25ld3MvMTE2NzUvMTE4NzE3MjcvamFuLXZlcnRvbmdoZW4tc3RpbGwta2Vlbi10by1kaXNjdXNzLW5ldy10b3R0ZW5oYW0tZGVhbC1hZnRlci1qb3NlLW1vdXJpbmhvcy1hcnJpdmFs?oc=5'},\n",
       " {'title': 'Zlatan Ibrahimovic: Why has the Swedish striker invested in Hammarby? - BBC News',\n",
       "  'content': None,\n",
       "  'source_name': 'Google News',\n",
       "  'url': 'https://news.google.com/__i/rss/rd/articles/CBMiLWh0dHBzOi8vd3d3LmJiYy5jby51ay9zcG9ydC9mb290YmFsbC81MDU3MDA2NtIBMWh0dHBzOi8vd3d3LmJiYy5jby51ay9zcG9ydC9hbXAvZm9vdGJhbGwvNTA1NzAwNjY?oc=5'},\n",
       " {'title': 'Pascal Cygan claims Russians tried to honeytrap Arsenal before Champions League Lokomotiv Moscow tie - Daily Mail',\n",
       "  'content': None,\n",
       "  'source_name': 'Google News',\n",
       "  'url': 'https://news.google.com/__i/rss/rd/articles/CBMilwFodHRwczovL3d3dy5kYWlseW1haWwuY28udWsvc3BvcnQvZm9vdGJhbGwvYXJ0aWNsZS03NzMxNDgxL1Bhc2NhbC1DeWdhbi1jbGFpbXMtTG9rb21vdGl2LU1vc2Nvdy10cmllZC1ob25leXRyYXAtQXJzZW5hbC1haGVhZC1DaGFtcGlvbnMtTGVhZ3VlLXRpZS5odG1s0gGbAWh0dHBzOi8vd3d3LmRhaWx5bWFpbC5jby51ay9zcG9ydC9mb290YmFsbC9hcnRpY2xlLTc3MzE0ODEvYW1wL1Bhc2NhbC1DeWdhbi1jbGFpbXMtTG9rb21vdGl2LU1vc2Nvdy10cmllZC1ob25leXRyYXAtQXJzZW5hbC1haGVhZC1DaGFtcGlvbnMtTGVhZ3VlLXRpZS5odG1s?oc=5'},\n",
       " {'title': 'Solskjaer confirms four Man Utd debuts v Astana; hails world class reserve - Teamtalk.com',\n",
       "  'content': 'Ole Gunnar Solskjaer has confirmed Manchester United will hand at least four first-team debuts out against Astana in the Europa League on Thursday – and hailed one patient star for his “world class attitude”.\\r\\nUnited have made the near 4,000-mile trip to face… [+2472 chars]',\n",
       "  'source_name': 'Teamtalk.com',\n",
       "  'url': 'https://www.teamtalk.com/news/solskjaer-confirms-four-man-utd-debuts-v-astana-hails-his-world-class-reserve'},\n",
       " {'title': 'The points-per-game mark Leeds United need for automatic promotion - Leeds Live',\n",
       "  'content': None,\n",
       "  'source_name': 'Google News',\n",
       "  'url': 'https://news.google.com/__i/rss/rd/articles/CBMiXmh0dHBzOi8vd3d3LmxlZWRzLWxpdmUuY28udWsvc3BvcnQvbGVlZHMtdW5pdGVkL2xlZWRzLXVuaXRlZC1wcm9tb3Rpb24tcG9pbnRzLWF2ZXJhZ2UtMTcwNzUxMjfSAWJodHRwczovL3d3dy5sZWVkcy1saXZlLmNvLnVrL3Nwb3J0L2xlZWRzLXVuaXRlZC9sZWVkcy11bml0ZWQtcHJvbW90aW9uLXBvaW50cy1hdmVyYWdlLTE3MDc1MTI3LmFtcA?oc=5'},\n",
       " {'title': 'Sunderland owner Stewart Donald finds himself between the Devil and the deep blue sea - Chronicle Live',\n",
       "  'content': None,\n",
       "  'source_name': 'Google News',\n",
       "  'url': 'https://news.google.com/__i/rss/rd/articles/CBMib2h0dHBzOi8vd3d3LmNocm9uaWNsZWxpdmUuY28udWsvc3BvcnQvZm9vdGJhbGwvZm9vdGJhbGwtbmV3cy9zdW5kZXJsYW5kLW93bmVyLXN0ZXdhcnQtZG9uYWxkLXBhcmtpbnNvbi0xNzMyNDI0OdIBc2h0dHBzOi8vd3d3LmNocm9uaWNsZWxpdmUuY28udWsvc3BvcnQvZm9vdGJhbGwvZm9vdGJhbGwtbmV3cy9zdW5kZXJsYW5kLW93bmVyLXN0ZXdhcnQtZG9uYWxkLXBhcmtpbnNvbi0xNzMyNDI0OS5hbXA?oc=5'},\n",
       " {'title': \"Peter Lawwell insists Celtic’s Green Brigade can 'make my heart sink' - Daily Record\",\n",
       "  'content': None,\n",
       "  'source_name': 'Google News',\n",
       "  'url': 'https://news.google.com/__i/rss/rd/articles/CBMiZ2h0dHBzOi8vd3d3LmRhaWx5cmVjb3JkLmNvLnVrL3Nwb3J0L2Zvb3RiYWxsL2Zvb3RiYWxsLW5ld3MvcGV0ZXItbGF3d2VsbC1pbnNpc3RzLWNlbHRpY3MtZ3JlZW4tMjA5NzIwODPSAWtodHRwczovL3d3dy5kYWlseXJlY29yZC5jby51ay9zcG9ydC9mb290YmFsbC9mb290YmFsbC1uZXdzL3BldGVyLWxhd3dlbGwtaW5zaXN0cy1jZWx0aWNzLWdyZWVuLTIwOTcyMDgzLmFtcA?oc=5'},\n",
       " {'title': 'Liverpool, Napoli and how failed transfer battle set Reds on path to glory - Liverpool Echo',\n",
       "  'content': \"It's no secret that Jurgen Klopp missed out on Napoli midfielder Piotr Zielinski during his first summer transfer window at Liverpool back in 2016.\\r\\nThe Reds has been tracking the Polish international since the previous summer, when Brendan Rodgers was still … [+3307 chars]\",\n",
       "  'source_name': 'Liverpoolecho.co.uk',\n",
       "  'url': 'https://www.liverpoolecho.co.uk/sport/football/football-news/liverpool-napoli-zielinski-transfer-news-17323110'},\n",
       " {'title': 'Sources: Moshiri stance on Everton appointing Moyes revealed after talks - Football Insider',\n",
       "  'content': None,\n",
       "  'source_name': 'Google News',\n",
       "  'url': 'https://news.google.com/__i/rss/rd/articles/CBMia2h0dHBzOi8vd3d3LmZvb3RiYWxsaW5zaWRlcjI0Ny5jb20vc291cmNlcy1tb3NoaXJpLXN0YW5jZS1vbi1ldmVydG9uLWFwcG9pbnRpbmctbW95ZXMtcmV2ZWFsZWQtYWZ0ZXItdGFsa3Mv0gFvaHR0cHM6Ly93d3cuZm9vdGJhbGxpbnNpZGVyMjQ3LmNvbS9zb3VyY2VzLW1vc2hpcmktc3RhbmNlLW9uLWV2ZXJ0b24tYXBwb2ludGluZy1tb3llcy1yZXZlYWxlZC1hZnRlci10YWxrcy9hbXAv?oc=5'},\n",
       " {'title': \"Man City in Champions League: 'Pep Guardiola's team need their fans to make next step' - BBC Sport\",\n",
       "  'content': None,\n",
       "  'source_name': 'Google News',\n",
       "  'url': 'https://news.google.com/__i/rss/rd/articles/CBMiLWh0dHBzOi8vd3d3LmJiYy5jby51ay9zcG9ydC9mb290YmFsbC81MDU2NzI5MdIBMWh0dHBzOi8vd3d3LmJiYy5jby51ay9zcG9ydC9hbXAvZm9vdGJhbGwvNTA1NjcyOTE?oc=5'},\n",
       " {'title': 'Luis Enrique says he sacked Robert Moreno from Spain post for ‘disloyalty’ - The Guardian',\n",
       "  'content': None,\n",
       "  'source_name': 'Google News',\n",
       "  'url': 'https://news.google.com/__i/rss/rd/articles/CBMib2h0dHBzOi8vd3d3LnRoZWd1YXJkaWFuLmNvbS9mb290YmFsbC8yMDE5L25vdi8yNy9sdWlzLWVucmlxdWUtc2Fja2VkLXJvYmVydC1tb3Jlbm8tc3BhaW4tZGlzbG95YWwtbm8yLWV1cm8tMjAyMNIBb2h0dHBzOi8vYW1wLnRoZWd1YXJkaWFuLmNvbS9mb290YmFsbC8yMDE5L25vdi8yNy9sdWlzLWVucmlxdWUtc2Fja2VkLXJvYmVydC1tb3Jlbm8tc3BhaW4tZGlzbG95YWwtbm8yLWV1cm8tMjAyMA?oc=5'},\n",
       " {'title': \"Pep Guardiola's transfer coup comes under increasing scrutiny in Man City struggles - Manchester Evening News\",\n",
       "  'content': None,\n",
       "  'source_name': 'Google News',\n",
       "  'url': 'https://news.google.com/__i/rss/rd/articles/CBMiamh0dHBzOi8vd3d3Lm1hbmNoZXN0ZXJldmVuaW5nbmV3cy5jby51ay9zcG9ydC9mb290YmFsbC90cmFuc2Zlci1uZXdzL21hbi1jaXR5LXRyYW5zZmVyLW5ld3Mtcm9kcmktMTczMjMwMTTSAW5odHRwczovL3d3dy5tYW5jaGVzdGVyZXZlbmluZ25ld3MuY28udWsvc3BvcnQvZm9vdGJhbGwvdHJhbnNmZXItbmV3cy9tYW4tY2l0eS10cmFuc2Zlci1uZXdzLXJvZHJpLTE3MzIzMDE0LmFtcA?oc=5'},\n",
       " {'title': \"Lionel Messi's Barcelona quit message to Neymar after Liverpool defeat uncovered - Mirror Online\",\n",
       "  'content': 'Lionel Messi begged Neymar to seal his Barcelona return following their Champions League exit to Liverpool . \\r\\nThe Barca star also reportedly revealed he would be quitting the Nou Camp club in two years in a WhatsApp message to his former team-mate.\\r\\nBarcelon… [+2287 chars]',\n",
       "  'source_name': 'Mirror.co.uk',\n",
       "  'url': 'https://www.mirror.co.uk/sport/football/news/lionel-messis-barcelona-quit-message-20971641'},\n",
       " {'title': 'Tyson Fury says he would beat Brock Lesnar in 30 seconds - Sky Sports',\n",
       "  'content': None,\n",
       "  'source_name': 'Google News',\n",
       "  'url': 'https://news.google.com/__i/rss/rd/articles/CBMiamh0dHBzOi8vd3d3LnNreXNwb3J0cy5jb20vd3dlL25ld3MvMTQyMDMvMTE4NzE1MTQvdHlzb24tZnVyeS1zYXlzLWhlLXdvdWxkLWJlYXQtYnJvY2stbGVzbmFyLWluLTMwLXNlY29uZHPSAW5odHRwczovL3d3dy5za3lzcG9ydHMuY29tL2FtcC93d2UvbmV3cy8xNDIwMy8xMTg3MTUxNC90eXNvbi1mdXJ5LXNheXMtaGUtd291bGQtYmVhdC1icm9jay1sZXNuYXItaW4tMzAtc2Vjb25kcw?oc=5'},\n",
       " {'title': 'Wayne Rooney set to start new Derby coaching role at QPR - Sky Sports',\n",
       "  'content': None,\n",
       "  'source_name': 'Google News',\n",
       "  'url': 'https://news.google.com/__i/rss/rd/articles/CBMib2h0dHBzOi8vd3d3LnNreXNwb3J0cy5jb20vZm9vdGJhbGwvbmV3cy8xMTY4OC8xMTg3MTU3Ni93YXluZS1yb29uZXktc2V0LXRvLXN0YXJ0LW5ldy1kZXJieS1jb2FjaGluZy1yb2xlLWF0LXFwctIBc2h0dHBzOi8vd3d3LnNreXNwb3J0cy5jb20vYW1wL2Zvb3RiYWxsL25ld3MvMTE2ODgvMTE4NzE1NzYvd2F5bmUtcm9vbmV5LXNldC10by1zdGFydC1uZXctZGVyYnktY29hY2hpbmctcm9sZS1hdC1xcHI?oc=5'},\n",
       " {'title': \"Exclusive interview: Red Bull's Christian Horner on their successful start to life with Honda - RaceFans\",\n",
       "  'content': None,\n",
       "  'source_name': 'Google News',\n",
       "  'url': 'https://news.google.com/__i/rss/rd/articles/CBMigAFodHRwczovL3d3dy5yYWNlZmFucy5uZXQvMjAxOS8xMS8yNy9leGNsdXNpdmUtaW50ZXJ2aWV3LXJlZC1idWxscy1jaHJpc3RpYW4taG9ybmVyLW9uLXRoZWlyLXN1Y2Nlc3NmdWwtc3RhcnQtdG8tbGlmZS13aXRoLWhvbmRhL9IBAA?oc=5'}]"
      ]
     },
     "execution_count": 14,
     "metadata": {},
     "output_type": "execute_result"
    }
   ],
   "source": [
    "formatted_data"
   ]
  },
  {
   "cell_type": "code",
   "execution_count": 19,
   "metadata": {},
   "outputs": [],
   "source": [
    "\n",
    "def write_to_file(N=5):\n",
    "    if N > len(formatted_data):\n",
    "        raise ValueError('Please enter a smaller number')\n",
    "\n",
    "    with open('articles.txt','w') as file:\n",
    "        for article_number, article in enumerate(formatted_data):\n",
    "            article_number=article_number+1\n",
    "            if article_number > N:\n",
    "                break\n",
    "            title = str(article['title'])\n",
    "            content=str(article['content'])\n",
    "            source_name=str(article['source_name'])\n",
    "            url=str(article['url'])\n",
    "\n",
    "            file.write('-'*20 + '\\n')   \n",
    "            file.write('Article No.{article_num}:{title}\\n'.format(article_num= article_number, title=title))\n",
    "            file.write(content+'\\n')\n",
    "            file.write('Source:{src}\\n'.format(src=source_name))\n",
    "            file.write('URL:{url}\\n'.format(url=url))\n"
   ]
  },
  {
   "cell_type": "code",
   "execution_count": null,
   "metadata": {},
   "outputs": [],
   "source": [
    "### MAIN PROGRAM\n",
    "\n",
    "country=input('Please enter a country: ')\n",
    "category=input('Please enter a category: ')\n",
    "n=int(input(How many articles do you want to write: ))\n",
    "#Task -1\n",
    "data=get_top_news(country,category)\n",
    "#Task -2\n",
    "data=get_top_news(country,category)\n",
    "\n"
   ]
  }
 ],
 "metadata": {
  "kernelspec": {
   "display_name": "Python 3",
   "language": "python",
   "name": "python3"
  },
  "language_info": {
   "codemirror_mode": {
    "name": "ipython",
    "version": 3
   },
   "file_extension": ".py",
   "mimetype": "text/x-python",
   "name": "python",
   "nbconvert_exporter": "python",
   "pygments_lexer": "ipython3",
   "version": "3.7.3"
  }
 },
 "nbformat": 4,
 "nbformat_minor": 4
}
